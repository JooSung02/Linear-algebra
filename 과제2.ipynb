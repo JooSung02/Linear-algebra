{
  "nbformat": 4,
  "nbformat_minor": 0,
  "metadata": {
    "colab": {
      "provenance": [],
      "authorship_tag": "ABX9TyOWAYXofX1ws3Kw6yG/+Fdc",
      "include_colab_link": true
    },
    "kernelspec": {
      "name": "python3",
      "display_name": "Python 3"
    },
    "language_info": {
      "name": "python"
    }
  },
  "cells": [
    {
      "cell_type": "markdown",
      "metadata": {
        "id": "view-in-github",
        "colab_type": "text"
      },
      "source": [
        "<a href=\"https://colab.research.google.com/github/JooSung02/Linear-algebra/blob/main/%EA%B3%BC%EC%A0%9C2.ipynb\" target=\"_parent\"><img src=\"https://colab.research.google.com/assets/colab-badge.svg\" alt=\"Open In Colab\"/></a>"
      ]
    },
    {
      "cell_type": "code",
      "source": [
        "print (\"Hello, world\")\n",
        "\n",
        "# integer\n",
        "x = 3\n",
        "print (\"정수 : %01d, %02d, %03d, %04d, %05d\" % (x, x, x, x, x))\n",
        "\n",
        "# float\n",
        "x = 256.123\n",
        "print(\"실수 : %.0f, %.1f, %.2f\" % (x, x, x))\n",
        "\n",
        "# string\n",
        "x = \"Hello, world\"\n",
        "print(\"문자열 : [%s]\" % (x))"
      ],
      "metadata": {
        "colab": {
          "base_uri": "https://localhost:8080/"
        },
        "id": "Og21Yml4Wl7Q",
        "outputId": "25d1e33f-2d2b-4bf6-f9bf-b0c3a141236c"
      },
      "execution_count": 2,
      "outputs": [
        {
          "output_type": "stream",
          "name": "stdout",
          "text": [
            "Hello, world\n",
            "정수 : 3, 03, 003, 0003, 00003\n",
            "실수 : 256, 256.1, 256.12\n",
            "문자열 : [Hello, world]\n"
          ]
        }
      ]
    },
    {
      "cell_type": "code",
      "source": [
        "contents = [\"Regression\", \"Classification\", \"Clustering\", \"Demension resuction\", \"NN\", \"CNN\", \"AE\", \"GAN\", \"RNN\"]\n",
        "\n",
        "for con in contents:\n",
        "  if con in [\"Regression\", \"Classification\", \"Clustering\", \"Demension resuction\"]:\n",
        "    print (\"%s은(는) 기계학습입니다.\"%con)\n",
        "  elif con in [\"CNN\"]:\n",
        "    print (\"%s은(는) convolutional neural  network입니다.\" %con)\n",
        "  else:\n",
        "    print (\"%s은(는) 심층학습 내용입니다.\" %con)\n"
      ],
      "metadata": {
        "colab": {
          "base_uri": "https://localhost:8080/"
        },
        "id": "rnz_g618ZdJ6",
        "outputId": "9c338749-87b2-459a-b424-59f97a6da9f2"
      },
      "execution_count": 4,
      "outputs": [
        {
          "output_type": "stream",
          "name": "stdout",
          "text": [
            "Regression은(는) 기계학습입니다.\n",
            "Classification은(는) 기계학습입니다.\n",
            "Clustering은(는) 기계학습입니다.\n",
            "Demension resuction은(는) 기계학습입니다.\n",
            "NN은(는) 심층학습 내용입니다.\n",
            "CNN은(는) convolutional neural  network입니다.\n",
            "AE은(는) 심층학습 내용입니다.\n",
            "GAN은(는) 심층학습 내용입니다.\n",
            "RNN은(는) 심층학습 내용입니다.\n"
          ]
        }
      ]
    }
  ]
}